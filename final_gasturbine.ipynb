{
 "cells": [
  {
   "cell_type": "code",
   "execution_count": 1,
   "metadata": {},
   "outputs": [
    {
     "name": "stdout",
     "output_type": "stream",
     "text": [
      "WARNING:tensorflow:From c:\\Users\\Admin\\Documents\\MLE\\turbine_env\\Lib\\site-packages\\keras\\src\\losses.py:2976: The name tf.losses.sparse_softmax_cross_entropy is deprecated. Please use tf.compat.v1.losses.sparse_softmax_cross_entropy instead.\n",
      "\n"
     ]
    }
   ],
   "source": [
    "import numpy as np\n",
    "import pandas as pd\n",
    "import os\n",
    "import zipfile\n",
    "import matplotlib.pyplot as plt\n",
    "\n",
    "from sklearn.preprocessing import MinMaxScaler\n",
    "from sklearn.model_selection import train_test_split\n",
    "from sklearn.metrics import mean_squared_error, mean_absolute_error, r2_score\n",
    "\n",
    "import tensorflow as tf\n",
    "from tensorflow.keras.layers import Input, LSTM, Bidirectional, Attention, Dense, Concatenate, Lambda, Dropout\n",
    "from tensorflow.keras.models import Model\n",
    "from tensorflow.keras.optimizers import Adam\n",
    "import tensorflow.keras.backend as K\n"
   ]
  },
  {
   "cell_type": "code",
   "execution_count": 2,
   "metadata": {},
   "outputs": [
    {
     "name": "stdout",
     "output_type": "stream",
     "text": [
      "Train data already extracted.\n",
      "Found CSVs: ['C:\\\\Users\\\\Admin\\\\Downloads\\\\micro+gas+turbine+electrical+energy+prediction\\\\train_extracted\\\\train\\\\ex_1.csv', 'C:\\\\Users\\\\Admin\\\\Downloads\\\\micro+gas+turbine+electrical+energy+prediction\\\\train_extracted\\\\train\\\\ex_20.csv', 'C:\\\\Users\\\\Admin\\\\Downloads\\\\micro+gas+turbine+electrical+energy+prediction\\\\train_extracted\\\\train\\\\ex_21.csv', 'C:\\\\Users\\\\Admin\\\\Downloads\\\\micro+gas+turbine+electrical+energy+prediction\\\\train_extracted\\\\train\\\\ex_23.csv', 'C:\\\\Users\\\\Admin\\\\Downloads\\\\micro+gas+turbine+electrical+energy+prediction\\\\train_extracted\\\\train\\\\ex_24.csv', 'C:\\\\Users\\\\Admin\\\\Downloads\\\\micro+gas+turbine+electrical+energy+prediction\\\\train_extracted\\\\train\\\\ex_9.csv']\n",
      "Full train dataset shape: (52940, 4)\n"
     ]
    }
   ],
   "source": [
    "import os\n",
    "import pandas as pd\n",
    "import zipfile\n",
    "\n",
    "# Dataset paths\n",
    "dataset_path = r'C:\\Users\\Admin\\Downloads\\micro+gas+turbine+electrical+energy+prediction'\n",
    "train_zip_path = os.path.join(dataset_path, 'train.zip')\n",
    "train_extract_path = os.path.join(dataset_path, 'train_extracted')\n",
    "\n",
    "if not os.path.exists(train_extract_path):\n",
    "    with zipfile.ZipFile(train_zip_path, 'r') as zip_ref:\n",
    "        zip_ref.extractall(train_extract_path)\n",
    "    print(\"Train data extracted.\")\n",
    "else:\n",
    "    print(\"Train data already extracted.\")\n",
    "\n",
    "# Collect CSVs recursively\n",
    "csv_files = []\n",
    "for root, dirs, files in os.walk(train_extract_path):\n",
    "    for file in files:\n",
    "        if file.endswith('.csv'):\n",
    "            csv_files.append(os.path.join(root, file))\n",
    "\n",
    "print(f\"Found CSVs: {csv_files}\")\n",
    "\n",
    "# Load all CSVs\n",
    "dataframes = []\n",
    "for file in csv_files:\n",
    "    df = pd.read_csv(file)\n",
    "    df['experiment'] = os.path.basename(file).replace('.csv', '')  # tag experiment\n",
    "    dataframes.append(df)\n",
    "\n",
    "full_train_data = pd.concat(dataframes, ignore_index=True)\n",
    "print(f\"Full train dataset shape: {full_train_data.shape}\")\n"
   ]
  },
  {
   "cell_type": "code",
   "execution_count": 3,
   "metadata": {},
   "outputs": [],
   "source": [
    "def create_physics_guided_sequences(df, seq_length=20):\n",
    "    X, y = [], []\n",
    "\n",
    "    input_series = df['input_voltage'].values\n",
    "    output_series = df['el_power'].values\n",
    "\n",
    "    # Feature 1: input voltage\n",
    "    voltage = input_series\n",
    "\n",
    "    # Feature 2: derivative\n",
    "    derivative = np.diff(input_series, prepend=input_series[0])\n",
    "\n",
    "    # Feature 3: time since last change\n",
    "    time_since_change = np.zeros_like(input_series)\n",
    "    counter = 0\n",
    "    for i in range(1, len(input_series)):\n",
    "        if derivative[i] == 0:\n",
    "            counter += 1\n",
    "        else:\n",
    "            counter = 0\n",
    "        time_since_change[i] = counter\n",
    "\n",
    "    combined_input = np.vstack([voltage, derivative, time_since_change]).T\n",
    "\n",
    "    for i in range(seq_length, len(df)):\n",
    "        X.append(combined_input[i-seq_length:i])\n",
    "        y.append(output_series[i])\n",
    "\n",
    "    return np.array(X), np.array(y)"
   ]
  },
  {
   "cell_type": "code",
   "execution_count": 4,
   "metadata": {},
   "outputs": [],
   "source": [
    "import numpy as np\n",
    "X, y = create_physics_guided_sequences(full_train_data)\n",
    "\n",
    "# Step 2 - Train-Test Split\n",
    "X_train, X_test, y_train, y_test = train_test_split(X, y, test_size=0.2, random_state=42)\n",
    "\n",
    "# Step 3 - Scaling (if applicable)\n",
    "scaler = MinMaxScaler()\n",
    "combined_y = np.concatenate([y_train, y_test])\n",
    "scaler.fit(combined_y.reshape(-1,1))\n",
    "y_train_scaled = scaler.transform(y_train.reshape(-1,1))\n",
    "y_test_scaled = scaler.transform(y_test.reshape(-1,1))\n"
   ]
  },
  {
   "cell_type": "code",
   "execution_count": 5,
   "metadata": {},
   "outputs": [
    {
     "name": "stdout",
     "output_type": "stream",
     "text": [
      "\n",
      "Training Model: BASELINE\n",
      "WARNING:tensorflow:From c:\\Users\\Admin\\Documents\\MLE\\turbine_env\\Lib\\site-packages\\keras\\src\\backend.py:1398: The name tf.executing_eagerly_outside_functions is deprecated. Please use tf.compat.v1.executing_eagerly_outside_functions instead.\n",
      "\n",
      "WARNING:tensorflow:From c:\\Users\\Admin\\Documents\\MLE\\turbine_env\\Lib\\site-packages\\keras\\src\\utils\\tf_utils.py:492: The name tf.ragged.RaggedTensorValue is deprecated. Please use tf.compat.v1.ragged.RaggedTensorValue instead.\n",
      "\n",
      "331/331 [==============================] - 8s 15ms/step\n",
      "\n",
      "Training Model: ATTENTION\n",
      "331/331 [==============================] - 5s 11ms/step\n",
      "\n",
      "Training Model: BILSTM\n",
      "331/331 [==============================] - 11s 23ms/step\n",
      "\n",
      "Training Model: BILSTM_PG\n",
      "331/331 [==============================] - 11s 22ms/step\n",
      "\n",
      "Training Model: BILSTM_PG_MC\n",
      "331/331 [==============================] - 17s 25ms/step\n",
      "          Model          RMSE            MAE        R2    Smoothness\n",
      "0      baseline  4.565523e+05  277560.391647  0.926361  5.341954e+12\n",
      "1     attention  4.723045e+05  276216.582009  0.921192  5.085939e+12\n",
      "2        bilstm  1.128139e+06  881997.817585  0.550373  2.374781e+12\n",
      "3     bilstm_pg  1.158008e+06  971987.206485  0.526249  1.535888e+12\n",
      "4  bilstm_pg_mc  1.069996e+06  850725.455072  0.595525  2.379129e+12\n"
     ]
    }
   ],
   "source": [
    "import tensorflow.keras.backend as K\n",
    "\n",
    "def physics_guided_loss(y_true, y_pred):\n",
    "    mse = K.mean(K.square(y_true - y_pred))\n",
    "    smoothness = K.mean(K.square(y_pred[:,1:] - y_pred[:,:-1]))\n",
    "    return mse + 0.01 * smoothness   # λ=0.01 is tunable\n",
    "\n",
    "from tensorflow.keras.layers import Input, LSTM, Bidirectional, Attention, Dense, Concatenate, Lambda, Dropout\n",
    "from tensorflow.keras.models import Model\n",
    "from tensorflow.keras.optimizers import Adam\n",
    "\n",
    "def build_model(version=\"baseline\", loss_fn='mse'):\n",
    "    input_layer = Input(shape=(X_train.shape[1], X_train.shape[2]))\n",
    "    \n",
    "    # RNN backbone\n",
    "    if version in [\"bilstm\", \"bilstm_pg\", \"bilstm_pg_mc\"]:\n",
    "        rnn_out = Bidirectional(LSTM(128, return_sequences=True, dropout=0.2))(input_layer)\n",
    "    else:\n",
    "        rnn_out = LSTM(64, return_sequences=True)(input_layer)\n",
    "        \n",
    "    # Attention (optional)\n",
    "    if version in [\"attention\", \"bilstm\", \"bilstm_pg\", \"bilstm_pg_mc\"]:\n",
    "        attention_out = Attention()([rnn_out, rnn_out])\n",
    "        combined = Concatenate()([rnn_out, attention_out])\n",
    "    else:\n",
    "        combined = rnn_out\n",
    "        \n",
    "    # Dense Head\n",
    "    last_step = Lambda(lambda x: x[:, -1, :])(combined)\n",
    "    dense_out = Dense(64 if version in [\"bilstm_pg\", \"bilstm_pg_mc\"] else 32, activation='relu')(last_step)\n",
    "    \n",
    "    # Dropout if physics-guided variants\n",
    "    if version in [\"bilstm_pg\", \"bilstm_pg_mc\"]:\n",
    "        dense_out = Dropout(0.2)(dense_out)\n",
    "\n",
    "    output = Dense(1)(dense_out)\n",
    "    \n",
    "    model = Model(inputs=input_layer, outputs=output)\n",
    "    model.compile(optimizer=Adam(learning_rate=0.0005), loss=loss_fn)\n",
    "    return model\n",
    "\n",
    "variants = [\"baseline\", \"attention\", \"bilstm\", \"bilstm_pg\", \"bilstm_pg_mc\"]\n",
    "results = []\n",
    "\n",
    "for v in variants:\n",
    "    print(f\"\\nTraining Model: {v.upper()}\")\n",
    "    loss_function = physics_guided_loss if \"pg\" in v else 'mse'\n",
    "    model = build_model(version=v, loss_fn=loss_function)\n",
    "    model.fit(X_train, y_train, epochs=50, batch_size=64, validation_split=0.1, verbose=0)\n",
    "    \n",
    "    # Evaluate\n",
    "    y_pred = model.predict(X_test).flatten()\n",
    "    y_pred_rescaled = scaler.inverse_transform(y_pred.reshape(-1,1)).flatten()\n",
    "    y_test_rescaled = scaler.inverse_transform(y_test.reshape(-1,1)).flatten()\n",
    "    \n",
    "    rmse = np.sqrt(mean_squared_error(y_test_rescaled, y_pred_rescaled))\n",
    "    mae = mean_absolute_error(y_test_rescaled, y_pred_rescaled)\n",
    "    r2 = r2_score(y_test_rescaled, y_pred_rescaled)\n",
    "    smoothness_penalty = np.mean(np.square(np.diff(y_pred_rescaled)))\n",
    "    \n",
    "    results.append({\n",
    "        \"Model\": v,\n",
    "        \"RMSE\": rmse,\n",
    "        \"MAE\": mae,\n",
    "        \"R2\": r2,\n",
    "        \"Smoothness\": smoothness_penalty\n",
    "    })\n",
    "\n",
    "results_df = pd.DataFrame(results)\n",
    "results_df.to_csv(r\"C:\\Users\\Admin\\Documents\\MLE\\ablation_study_results.csv\", index=False)\n",
    "print(results_df)\n"
   ]
  },
  {
   "cell_type": "code",
   "execution_count": 6,
   "metadata": {},
   "outputs": [
    {
     "name": "stdout",
     "output_type": "stream",
     "text": [
      "Test data already extracted.\n",
      "Found test CSVs: ['C:\\\\Users\\\\Admin\\\\Downloads\\\\micro+gas+turbine+electrical+energy+prediction\\\\test_extracted\\\\test\\\\ex_22.csv', 'C:\\\\Users\\\\Admin\\\\Downloads\\\\micro+gas+turbine+electrical+energy+prediction\\\\test_extracted\\\\test\\\\ex_4.csv']\n",
      "Full test dataset shape: (18285, 4)\n"
     ]
    }
   ],
   "source": [
    "test_zip_path = r'C:\\Users\\Admin\\Downloads\\micro+gas+turbine+electrical+energy+prediction\\test.zip'\n",
    "test_extract_path = r'C:\\Users\\Admin\\Downloads\\micro+gas+turbine+electrical+energy+prediction\\test_extracted'\n",
    "\n",
    "if not os.path.exists(test_extract_path):\n",
    "    with zipfile.ZipFile(test_zip_path, 'r') as zip_ref:\n",
    "        zip_ref.extractall(test_extract_path)\n",
    "    print(\"Test data extracted.\")\n",
    "else:\n",
    "    print(\"Test data already extracted.\")\n",
    "\n",
    "csv_files = []\n",
    "for root, dirs, files in os.walk(test_extract_path):\n",
    "    for file in files:\n",
    "        if file.endswith('.csv'):\n",
    "            csv_files.append(os.path.join(root, file))\n",
    "\n",
    "print(f\"Found test CSVs: {csv_files}\")\n",
    "\n",
    "test_dataframes = []\n",
    "for file in csv_files:\n",
    "    df = pd.read_csv(file)\n",
    "    df['experiment'] = os.path.basename(file).replace('.csv', '')  # tag experiment\n",
    "    test_dataframes.append(df)\n",
    "\n",
    "full_test_data = pd.concat(test_dataframes, ignore_index=True)\n",
    "print(f\"Full test dataset shape: {full_test_data.shape}\")"
   ]
  },
  {
   "cell_type": "code",
   "execution_count": 10,
   "metadata": {},
   "outputs": [
    {
     "name": "stdout",
     "output_type": "stream",
     "text": [
      "Test Dataset Shape: (18285, 4)\n",
      "X_test_final shape: (18265, 20, 3)\n",
      "y_test_final shape: (18265,)\n"
     ]
    }
   ],
   "source": [
    "test_dataframes = []\n",
    "for file in csv_files:\n",
    "    df = pd.read_csv(file)\n",
    "    df['experiment'] = os.path.basename(file).replace('.csv', '')\n",
    "    test_dataframes.append(df)\n",
    "\n",
    "full_test_data = pd.concat(test_dataframes, ignore_index=True)\n",
    "print(f\"Test Dataset Shape: {full_test_data.shape}\")\n",
    "\n",
    "# Create sequences\n",
    "X_test_final, y_test_final = create_physics_guided_sequences(full_test_data, seq_length=20)\n",
    "print(\"X_test_final shape:\", X_test_final.shape)\n",
    "print(\"y_test_final shape:\", y_test_final.shape)\n"
   ]
  },
  {
   "cell_type": "code",
   "execution_count": 11,
   "metadata": {},
   "outputs": [],
   "source": [
    "y_test_final_scaled = scaler.transform(y_test_final.reshape(-1,1))"
   ]
  },
  {
   "cell_type": "code",
   "execution_count": 12,
   "metadata": {},
   "outputs": [
    {
     "name": "stdout",
     "output_type": "stream",
     "text": [
      "571/571 [==============================] - 19s 32ms/step\n",
      "Test RMSE: 4215601.92 W\n",
      "Test MAE: 4036709.48 W\n",
      "Test R²: -27175929.9782\n"
     ]
    }
   ],
   "source": [
    "# Predict\n",
    "y_pred_final = model.predict(X_test_final).flatten()\n",
    "\n",
    "# Rescale\n",
    "y_pred_final_rescaled = scaler.inverse_transform(y_pred_final.reshape(-1,1)).flatten()\n",
    "y_test_final_rescaled = scaler.inverse_transform(y_test_final_scaled.reshape(-1,1)).flatten()\n",
    "\n",
    "# Metrics\n",
    "rmse_test = np.sqrt(mean_squared_error(y_test_final_rescaled, y_pred_final_rescaled))\n",
    "mae_test = mean_absolute_error(y_test_final_rescaled, y_pred_final_rescaled)\n",
    "r2_test = r2_score(y_test_final_rescaled, y_pred_final_rescaled)\n",
    "\n",
    "print(f\"Test RMSE: {rmse_test:.2f} W\")\n",
    "print(f\"Test MAE: {mae_test:.2f} W\")\n",
    "print(f\"Test R²: {r2_test:.4f}\")"
   ]
  },
  {
   "cell_type": "code",
   "execution_count": 13,
   "metadata": {},
   "outputs": [
    {
     "data": {
      "image/png": "[encoded data removed]",
      "text/plain": [
       "<Figure size 1500x500 with 1 Axes>"
      ]
     },
     "metadata": {},
     "output_type": "display_data"
    }
   ],
   "source": [
    "plt.figure(figsize=(15,5))\n",
    "plt.plot(y_test_final_rescaled[:500], label='Actual')\n",
    "plt.plot(y_pred_final_rescaled[:500], label='Predicted')\n",
    "plt.legend()\n",
    "plt.title(\"Final Validation on Test.zip Dataset\")\n",
    "plt.xlabel(\"Time\")\n",
    "plt.ylabel(\"Electrical Power (W)\")\n",
    "plt.grid()\n",
    "plt.show()"
   ]
  },
  {
   "cell_type": "code",
   "execution_count": 14,
   "metadata": {},
   "outputs": [],
   "source": [
    "# Combine y_train and y_test_final before scaling\n",
    "combined_y = np.concatenate([y_train, y_test_final])\n",
    "\n",
    "scaler = MinMaxScaler()\n",
    "scaler.fit(combined_y.reshape(-1,1))\n",
    "\n",
    "# Re-scale both\n",
    "y_train_scaled = scaler.transform(y_train.reshape(-1,1))\n",
    "y_test_final_scaled = scaler.transform(y_test_final.reshape(-1,1))\n"
   ]
  },
  {
   "cell_type": "code",
   "execution_count": 15,
   "metadata": {},
   "outputs": [
    {
     "ename": "NameError",
     "evalue": "name 'model_mc' is not defined",
     "output_type": "error",
     "traceback": [
      "\u001b[31m---------------------------------------------------------------------------\u001b[39m",
      "\u001b[31mNameError\u001b[39m                                 Traceback (most recent call last)",
      "\u001b[36mCell\u001b[39m\u001b[36m \u001b[39m\u001b[32mIn[15]\u001b[39m\u001b[32m, line 1\u001b[39m\n\u001b[32m----> \u001b[39m\u001b[32m1\u001b[39m y_pred_final_scaled = \u001b[43mmodel_mc\u001b[49m.predict(X_test_final)\n",
      "\u001b[31mNameError\u001b[39m: name 'model_mc' is not defined"
     ]
    }
   ],
   "source": [
    "y_pred_final_scaled = model_mc.predict(X_test_final)"
   ]
  },
  {
   "cell_type": "code",
   "execution_count": null,
   "metadata": {},
   "outputs": [],
   "source": []
  }
 ],
 "metadata": {
  "kernelspec": {
   "display_name": "turbine_env",
   "language": "python",
   "name": "python3"
  },
  "language_info": {
   "codemirror_mode": {
    "name": "ipython",
    "version": 3
   },
   "file_extension": ".py",
   "mimetype": "text/x-python",
   "name": "python",
   "nbconvert_exporter": "python",
   "pygments_lexer": "ipython3",
   "version": "3.11.9"
  }
 },
 "nbformat": 4,
 "nbformat_minor": 2
}
